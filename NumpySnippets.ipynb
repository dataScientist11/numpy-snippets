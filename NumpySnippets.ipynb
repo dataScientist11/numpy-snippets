{
 "cells": [
  {
   "cell_type": "markdown",
   "metadata": {},
   "source": [
    "### Import Statements "
   ]
  },
  {
   "cell_type": "code",
   "execution_count": 4,
   "metadata": {},
   "outputs": [],
   "source": [
    "import pandas as pd\n",
    "import numpy as np\n",
    "import tensorflow as tf"
   ]
  },
  {
   "cell_type": "markdown",
   "metadata": {},
   "source": [
    "### Versions"
   ]
  },
  {
   "cell_type": "code",
   "execution_count": 5,
   "metadata": {},
   "outputs": [
    {
     "name": "stdout",
     "output_type": "stream",
     "text": [
      "tensorflow version  1.12.0\n",
      "pandas version  0.23.4\n",
      "numpy version  1.15.4\n"
     ]
    }
   ],
   "source": [
    "print 'tensorflow version ',tf.__version__\n",
    "print 'pandas version ',pd.__version__\n",
    "print 'numpy version ', np.__version__"
   ]
  },
  {
   "cell_type": "markdown",
   "metadata": {},
   "source": [
    "# Basics\n",
    "Converts list to numpy array object. Numpy arrays have many attractive features such as the ability to select subsets using masks and the datatype can be specified."
   ]
  },
  {
   "cell_type": "code",
   "execution_count": 6,
   "metadata": {},
   "outputs": [
    {
     "data": {
      "text/plain": [
       "array([[1., 9., 9., 1.],\n",
       "       [2., 0., 1., 6.]], dtype=float32)"
      ]
     },
     "execution_count": 6,
     "metadata": {},
     "output_type": "execute_result"
    }
   ],
   "source": [
    "np.array(object=[[1, 9, 9, 1], [2, 0, 1, 6]], dtype=np.float32)\n"
   ]
  },
  {
   "cell_type": "code",
   "execution_count": 7,
   "metadata": {},
   "outputs": [
    {
     "data": {
      "text/plain": [
       "array([[0, 0, 0, 0],\n",
       "       [0, 0, 0, 0]])"
      ]
     },
     "execution_count": 7,
     "metadata": {},
     "output_type": "execute_result"
    }
   ],
   "source": [
    "np.zeros(shape=(2, 4), dtype=int)"
   ]
  },
  {
   "cell_type": "markdown",
   "metadata": {},
   "source": [
    "### arange\n",
    "Create an array of evenly spaced values."
   ]
  },
  {
   "cell_type": "code",
   "execution_count": 9,
   "metadata": {},
   "outputs": [
    {
     "data": {
      "text/plain": [
       "array([1.5, 2.2, 2.9, 3.6, 4.3, 5. , 5.7, 6.4, 7.1, 7.8])"
      ]
     },
     "execution_count": 9,
     "metadata": {},
     "output_type": "execute_result"
    }
   ],
   "source": [
    "np.arange(start=1.5, stop=8.5, step=0.7, dtype=float)"
   ]
  },
  {
   "cell_type": "markdown",
   "metadata": {},
   "source": [
    "### sqrt\n",
    "Takes the square root of input."
   ]
  },
  {
   "cell_type": "code",
   "execution_count": 10,
   "metadata": {},
   "outputs": [
    {
     "data": {
      "text/plain": [
       "array([4., 3., 2.])"
      ]
     },
     "execution_count": 10,
     "metadata": {},
     "output_type": "execute_result"
    }
   ],
   "source": [
    "np.sqrt([16, 9, 4])"
   ]
  },
  {
   "cell_type": "markdown",
   "metadata": {},
   "source": [
    "### ones\n",
    "Create numpy array of ones."
   ]
  },
  {
   "cell_type": "code",
   "execution_count": 11,
   "metadata": {},
   "outputs": [
    {
     "data": {
      "text/plain": [
       "array([[[u'1'],\n",
       "        [u'1'],\n",
       "        [u'1']],\n",
       "\n",
       "       [[u'1'],\n",
       "        [u'1'],\n",
       "        [u'1']]], dtype='<U1')"
      ]
     },
     "execution_count": 11,
     "metadata": {},
     "output_type": "execute_result"
    }
   ],
   "source": [
    "np.ones(shape=(2, 3, 1), dtype=np.unicode)"
   ]
  },
  {
   "cell_type": "markdown",
   "metadata": {},
   "source": [
    "### sum\n",
    "Get sum of values along rows or columns."
   ]
  },
  {
   "cell_type": "code",
   "execution_count": 13,
   "metadata": {},
   "outputs": [
    {
     "name": "stdout",
     "output_type": "stream",
     "text": [
      "[[ 0  1  2  3]\n",
      " [ 4  5  6  7]\n",
      " [ 8  9 10 11]]\n",
      "\n",
      "('sum entire array =', 66)\n",
      "('sum along columns =', array([12, 15, 18, 21]))\n",
      "('sum along rows =', array([ 6, 22, 38]))\n"
     ]
    }
   ],
   "source": [
    "vals = np.arange(0, 12, 1).reshape((3, 4))\n",
    "print(vals)\n",
    "print('')\n",
    "print('sum entire array =', np.sum(vals))\n",
    "print('sum along columns =', np.sum(vals, axis=0))\n",
    "print('sum along rows =', np.sum(vals, axis=1))"
   ]
  },
  {
   "cell_type": "markdown",
   "metadata": {},
   "source": [
    "### Mean\n",
    "Along different axis"
   ]
  },
  {
   "cell_type": "code",
   "execution_count": 15,
   "metadata": {},
   "outputs": [
    {
     "name": "stdout",
     "output_type": "stream",
     "text": [
      "[[1 2 3 4]\n",
      " [1 2 3 4]\n",
      " [1 2 3 4]]\n",
      "\n",
      "('mean entire array =', 2.5)\n",
      "('mean along columns =', array([1., 2., 3., 4.]))\n",
      "('mean along rows =', array([2.5, 2.5, 2.5]))\n"
     ]
    }
   ],
   "source": [
    "\n",
    "vals = np.array([1, 2, 3, 4]*3).reshape((3, 4))\n",
    "print(vals)\n",
    "print('')\n",
    "print('mean entire array =', np.mean(vals))\n",
    "print('mean along columns =', np.mean(vals, axis=0))\n",
    "print('mean along rows =', np.mean(vals, axis=1))"
   ]
  },
  {
   "cell_type": "markdown",
   "metadata": {},
   "source": [
    "### linspace\n",
    "Create an array of evenly spaced values of defined length."
   ]
  },
  {
   "cell_type": "code",
   "execution_count": 18,
   "metadata": {},
   "outputs": [
    {
     "data": {
      "text/plain": [
       "array([ 0.  ,  3.86,  7.72, 11.58, 15.44, 19.3 ])"
      ]
     },
     "execution_count": 18,
     "metadata": {},
     "output_type": "execute_result"
    }
   ],
   "source": [
    "np.linspace(0, 19.3, 6)"
   ]
  },
  {
   "cell_type": "markdown",
   "metadata": {},
   "source": [
    "### asarray\n",
    "Convert to numpy array. If input is already a ndarray then it will not be copied. The same result can be achieved with array by setting copy=False."
   ]
  },
  {
   "cell_type": "code",
   "execution_count": 19,
   "metadata": {},
   "outputs": [
    {
     "name": "stdout",
     "output_type": "stream",
     "text": [
      "<type 'numpy.ndarray'>\n",
      "[9 2 3 5]\n",
      "[10  3  4  6]\n"
     ]
    }
   ],
   "source": [
    "vals = np.array([9, 2, 3, 5])\n",
    "print(type(vals))\n",
    "print(vals)\n",
    "a = np.asarray(vals)\n",
    "a += 1\n",
    "print(vals) # vals changes because it was not copied when assigning 'a'"
   ]
  },
  {
   "cell_type": "markdown",
   "metadata": {},
   "source": [
    "### keepdims\n",
    "\n",
    "keepdims : bool, optional\n",
    "    If this is set to True, the axes which are reduced are left in the result as\n",
    "    dimensions with size one. With this option, the result will broadcast\n",
    "    correctly against the input array.\n",
    "    \n",
    "You will notice that if you don't specify an axis (1st two examples), the numerical result is the same, but the keepdims = True returned a 2D array with the number 6, whereas, the second incarnation returned a scalar. Similarly, when summing along axis 1 (across rows), a 2D array is returned again when keepdims = True. The last example, along axis 0 (down columns), shows a similar characteristic... dimensions are kept when keepdims = True.\n",
    "Studying axes and their properties is critical to a full understanding of the power of NumPy when dealing with multidimensional data."
   ]
  },
  {
   "cell_type": "code",
   "execution_count": 25,
   "metadata": {},
   "outputs": [
    {
     "name": "stdout",
     "output_type": "stream",
     "text": [
      "[[6]]\n",
      "6\n"
     ]
    }
   ],
   "source": [
    "a = np.array([[0, 0, 0],\n",
    "       [0, 1, 0],\n",
    "       [0, 2, 0],\n",
    "       [1, 0, 0],\n",
    "       [1, 1, 0]])\n",
    "print np.sum(a, keepdims=True)\n"
   ]
  }
 ],
 "metadata": {
  "kernelspec": {
   "display_name": "Python 2",
   "language": "python",
   "name": "python2"
  },
  "language_info": {
   "codemirror_mode": {
    "name": "ipython",
    "version": 2
   },
   "file_extension": ".py",
   "mimetype": "text/x-python",
   "name": "python",
   "nbconvert_exporter": "python",
   "pygments_lexer": "ipython2",
   "version": "2.7.12"
  }
 },
 "nbformat": 4,
 "nbformat_minor": 2
}
